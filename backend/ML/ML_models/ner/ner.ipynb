{
 "cells": [
  {
   "cell_type": "code",
   "execution_count": 2,
   "id": "ae30ead1",
   "metadata": {},
   "outputs": [],
   "source": [
    "import numpy as np \n",
    "import pandas as pd \n",
    "import os"
   ]
  },
  {
   "cell_type": "code",
   "execution_count": 6,
   "id": "eb8dd131",
   "metadata": {},
   "outputs": [
    {
     "name": "stdout",
     "output_type": "stream",
     "text": [
      "Loaded 1 document(s).\n",
      "Sample: Famous Chollima deploying Python version of GolangGhost RAT\n",
      "\n",
      "\n",
      "\n",
      "\n",
      "\n",
      "\n",
      "By \n",
      "\n",
      "\n",
      "Vanja Svajcer\n",
      "\n",
      "\n",
      "\n",
      "\n",
      "\n",
      "\n",
      "\n",
      "            Wednesday, June 18, 2025 06:00\n",
      "        \n",
      "\n",
      "\n",
      "\n",
      "\n",
      "\n",
      "                                Threats\n",
      "                            \n",
      "\n",
      "\n",
      "\n",
      "                                SecureX\n",
      "                            \n",
      "\n",
      "\n",
      "\n",
      "                                APT\n",
      "                            \n",
      "\n",
      "\n",
      "\n",
      "                                DPRK\n",
      "                            \n",
      "\n",
      "\n",
      "\n",
      "\n",
      "\n",
      "\n",
      "\n",
      "\n",
      "\n",
      "\n",
      "In May 2025, Cisco Talos identified a Python-based remote acce\n"
     ]
    }
   ],
   "source": [
    "data_dir = \"raw_data\"\n",
    "documents = []\n",
    "\n",
    "# Load the all_data.txt file content into documents[0]\n",
    "with open(os.path.join(data_dir, 'all_data.txt'), 'r', encoding='utf-8') as f:\n",
    "    documents.append(f.read())\n",
    "\n",
    "print(f\"Loaded {len(documents)} document(s).\")\n",
    "print(\"Sample:\", documents[0][:500])"
   ]
  },
  {
   "cell_type": "code",
   "execution_count": null,
   "id": "884e5d93",
   "metadata": {},
   "outputs": [],
   "source": [
    "#now we will verify indicator of compromises\n",
    "import re\n",
    "\n",
    "def tag_iocs(text):\n",
    "    entities = []\n",
    "\n",
    "    # IP Address\n",
    "    for match in re.finditer(r\"\\b(?:\\d{1,3}\\.){3}\\d{1,3}\\b\", text):\n",
    "        entities.append((match.start(), match.end(), \"IP\"))\n",
    "\n",
    "    # Domain\n",
    "    for match in re.finditer(rr\"\\b(?:[a-zA-Z0-9-]+\\.)+(com|net|org|gov|mil|edu|info|biz|io|in|ru|co|uk|de|jp|cn|xyz|site|online|cc|us|me)\\b\", text):\n",
    "        entities.append((match.start(), match.end(), \"DOMAIN\"))\n",
    "\n",
    "    # Hash (MD5, SHA1, SHA256)\n",
    "    for match in re.finditer(r\"\\b[a-fA-F0-9]{32,64}\\b\", text):\n",
    "        entities.append((match.start(), match.end(), \"HASH\"))\n",
    "\n",
    "    # File paths (Unix & Windows)\n",
    "    for match in re.finditer(r\"(?:[A-Za-z]:\\\\|/)[\\w\\-/\\\\\\.]+\", text):\n",
    "        entities.append((match.start(), match.end(), \"FILEPATH\"))\n",
    "\n",
    "    return sorted(entities, key=lambda x: x[0])\n"
   ]
  },
  {
   "cell_type": "code",
   "execution_count": 8,
   "id": "825c25fc",
   "metadata": {},
   "outputs": [
    {
     "name": "stdout",
     "output_type": "stream",
     "text": [
      "DOMAIN   | lib.zip\n",
      "DOMAIN   | nvidia.py\n",
      "DOMAIN   | config.py\n",
      "DOMAIN   | nvidia.py\n",
      "DOMAIN   | nvidia.py\n",
      "DOMAIN   | config.py\n",
      "DOMAIN   | command.py\n",
      "DOMAIN   | auto.py\n",
      "DOMAIN   | Api.py\n",
      "DOMAIN   | util.py\n"
     ]
    }
   ],
   "source": [
    "sample = documents[0]\n",
    "entities = tag_iocs(sample)\n",
    "\n",
    "for start, end, label in entities[:10]:\n",
    "    print(f\"{label:8} | {sample[start:end]}\")\n"
   ]
  },
  {
   "cell_type": "code",
   "execution_count": null,
   "id": "b32e33f1",
   "metadata": {},
   "outputs": [],
   "source": []
  }
 ],
 "metadata": {
  "kernelspec": {
   "display_name": "Python 3",
   "language": "python",
   "name": "python3"
  },
  "language_info": {
   "codemirror_mode": {
    "name": "ipython",
    "version": 3
   },
   "file_extension": ".py",
   "mimetype": "text/x-python",
   "name": "python",
   "nbconvert_exporter": "python",
   "pygments_lexer": "ipython3",
   "version": "3.10.11"
  }
 },
 "nbformat": 4,
 "nbformat_minor": 5
}
